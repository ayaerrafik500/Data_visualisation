{
 "cells": [
  {
   "cell_type": "markdown",
   "id": "db7958b9",
   "metadata": {
    "papermill": {
     "duration": 0.013384,
     "end_time": "2023-06-27T01:02:02.577547",
     "exception": false,
     "start_time": "2023-06-27T01:02:02.564163",
     "status": "completed"
    },
    "tags": []
   },
   "source": [
    "**This notebook is an exercise in the [Data Visualization](https://www.kaggle.com/learn/data-visualization) course.  You can reference the tutorial at [this link](https://www.kaggle.com/alexisbcook/scatter-plots).**\n",
    "\n",
    "---\n"
   ]
  },
  {
   "cell_type": "markdown",
   "id": "8ad9e56d",
   "metadata": {
    "papermill": {
     "duration": 0.010509,
     "end_time": "2023-06-27T01:02:02.599132",
     "exception": false,
     "start_time": "2023-06-27T01:02:02.588623",
     "status": "completed"
    },
    "tags": []
   },
   "source": [
    "In this exercise, you will use your new knowledge to propose a solution to a real-world scenario.  To succeed, you will need to import data into Python, answer questions using the data, and generate **scatter plots** to understand patterns in the data.\n",
    "\n",
    "## Scenario\n",
    "\n",
    "You work for a major candy producer, and your goal is to write a report that your company can use to guide the design of its next product.  Soon after starting your research, you stumble across this [very interesting dataset](https://fivethirtyeight.com/features/the-ultimate-halloween-candy-power-ranking/) containing results from a fun survey to crowdsource favorite candies.\n",
    "\n",
    "## Setup\n",
    "\n",
    "Run the next cell to import and configure the Python libraries that you need to complete the exercise."
   ]
  },
  {
   "cell_type": "code",
   "execution_count": 1,
   "id": "098d1669",
   "metadata": {
    "execution": {
     "iopub.execute_input": "2023-06-27T01:02:02.623234Z",
     "iopub.status.busy": "2023-06-27T01:02:02.622713Z",
     "iopub.status.idle": "2023-06-27T01:02:04.198663Z",
     "shell.execute_reply": "2023-06-27T01:02:04.197468Z"
    },
    "papermill": {
     "duration": 1.591237,
     "end_time": "2023-06-27T01:02:04.201348",
     "exception": false,
     "start_time": "2023-06-27T01:02:02.610111",
     "status": "completed"
    },
    "tags": []
   },
   "outputs": [
    {
     "name": "stdout",
     "output_type": "stream",
     "text": [
      "Setup Complete\n"
     ]
    }
   ],
   "source": [
    "import pandas as pd\n",
    "pd.plotting.register_matplotlib_converters()\n",
    "import matplotlib.pyplot as plt\n",
    "%matplotlib inline\n",
    "import seaborn as sns\n",
    "print(\"Setup Complete\")"
   ]
  },
  {
   "cell_type": "markdown",
   "id": "3880e5ef",
   "metadata": {
    "papermill": {
     "duration": 0.010667,
     "end_time": "2023-06-27T01:02:04.223932",
     "exception": false,
     "start_time": "2023-06-27T01:02:04.213265",
     "status": "completed"
    },
    "tags": []
   },
   "source": [
    "The questions below will give you feedback on your work. Run the following cell to set up our feedback system."
   ]
  },
  {
   "cell_type": "code",
   "execution_count": 2,
   "id": "d9ecda0a",
   "metadata": {
    "execution": {
     "iopub.execute_input": "2023-06-27T01:02:04.247492Z",
     "iopub.status.busy": "2023-06-27T01:02:04.247087Z",
     "iopub.status.idle": "2023-06-27T01:02:04.318518Z",
     "shell.execute_reply": "2023-06-27T01:02:04.317060Z"
    },
    "papermill": {
     "duration": 0.086009,
     "end_time": "2023-06-27T01:02:04.320891",
     "exception": false,
     "start_time": "2023-06-27T01:02:04.234882",
     "status": "completed"
    },
    "tags": []
   },
   "outputs": [
    {
     "name": "stdout",
     "output_type": "stream",
     "text": [
      "Setup Complete\n"
     ]
    }
   ],
   "source": [
    "# Set up code checking\n",
    "import os\n",
    "if not os.path.exists(\"../input/candy.csv\"):\n",
    "    os.symlink(\"../input/data-for-datavis/candy.csv\", \"../input/candy.csv\") \n",
    "from learntools.core import binder\n",
    "binder.bind(globals())\n",
    "from learntools.data_viz_to_coder.ex4 import *\n",
    "print(\"Setup Complete\")"
   ]
  },
  {
   "cell_type": "markdown",
   "id": "620780f1",
   "metadata": {
    "papermill": {
     "duration": 0.011341,
     "end_time": "2023-06-27T01:02:04.344208",
     "exception": false,
     "start_time": "2023-06-27T01:02:04.332867",
     "status": "completed"
    },
    "tags": []
   },
   "source": [
    "## Step 1: Load the Data\n",
    "\n",
    "Read the candy data file into `candy_data`.  Use the `\"id\"` column to label the rows."
   ]
  },
  {
   "cell_type": "code",
   "execution_count": 3,
   "id": "9edc31d7",
   "metadata": {
    "execution": {
     "iopub.execute_input": "2023-06-27T01:02:04.369259Z",
     "iopub.status.busy": "2023-06-27T01:02:04.368319Z",
     "iopub.status.idle": "2023-06-27T01:02:04.386674Z",
     "shell.execute_reply": "2023-06-27T01:02:04.385473Z"
    },
    "papermill": {
     "duration": 0.033946,
     "end_time": "2023-06-27T01:02:04.389326",
     "exception": false,
     "start_time": "2023-06-27T01:02:04.355380",
     "status": "completed"
    },
    "tags": []
   },
   "outputs": [
    {
     "data": {
      "application/javascript": [
       "parent.postMessage({\"jupyterEvent\": \"custom.exercise_interaction\", \"data\": {\"outcomeType\": 1, \"valueTowardsCompletion\": 0.3333333333333333, \"interactionType\": 1, \"questionType\": 1, \"questionId\": \"1_LoadData\", \"learnToolsVersion\": \"0.3.4\", \"failureMessage\": \"\", \"exceptionClass\": \"\", \"trace\": \"\"}}, \"*\")"
      ],
      "text/plain": [
       "<IPython.core.display.Javascript object>"
      ]
     },
     "metadata": {},
     "output_type": "display_data"
    },
    {
     "data": {
      "text/markdown": [
       "<span style=\"color:#33cc33\">Correct</span>"
      ],
      "text/plain": [
       "Correct"
      ]
     },
     "metadata": {},
     "output_type": "display_data"
    }
   ],
   "source": [
    "# Path of the file to read\n",
    "candy_filepath = \"../input/candy.csv\"\n",
    "\n",
    "# Fill in the line below to read the file into a variable candy_data\n",
    "candy_data = pd.read_csv(candy_filepath,index_col=\"id\")\n",
    "\n",
    "# Run the line below with no changes to check that you've loaded the data correctly\n",
    "step_1.check()"
   ]
  },
  {
   "cell_type": "code",
   "execution_count": 4,
   "id": "792fb8c8",
   "metadata": {
    "execution": {
     "iopub.execute_input": "2023-06-27T01:02:04.414292Z",
     "iopub.status.busy": "2023-06-27T01:02:04.413912Z",
     "iopub.status.idle": "2023-06-27T01:02:04.418544Z",
     "shell.execute_reply": "2023-06-27T01:02:04.417318Z"
    },
    "papermill": {
     "duration": 0.020271,
     "end_time": "2023-06-27T01:02:04.421297",
     "exception": false,
     "start_time": "2023-06-27T01:02:04.401026",
     "status": "completed"
    },
    "tags": []
   },
   "outputs": [],
   "source": [
    "# Lines below will give you a hint or solution code\n",
    "#step_1.hint()\n",
    "#step_1.solution()"
   ]
  },
  {
   "cell_type": "markdown",
   "id": "15c6f7e3",
   "metadata": {
    "papermill": {
     "duration": 0.011209,
     "end_time": "2023-06-27T01:02:04.444444",
     "exception": false,
     "start_time": "2023-06-27T01:02:04.433235",
     "status": "completed"
    },
    "tags": []
   },
   "source": [
    "## Step 2: Review the data\n",
    "\n",
    "Use a Python command to print the first five rows of the data."
   ]
  },
  {
   "cell_type": "code",
   "execution_count": 5,
   "id": "c1a802c0",
   "metadata": {
    "execution": {
     "iopub.execute_input": "2023-06-27T01:02:04.469239Z",
     "iopub.status.busy": "2023-06-27T01:02:04.468852Z",
     "iopub.status.idle": "2023-06-27T01:02:04.485165Z",
     "shell.execute_reply": "2023-06-27T01:02:04.483896Z"
    },
    "papermill": {
     "duration": 0.031407,
     "end_time": "2023-06-27T01:02:04.487302",
     "exception": false,
     "start_time": "2023-06-27T01:02:04.455895",
     "status": "completed"
    },
    "tags": []
   },
   "outputs": [
    {
     "name": "stdout",
     "output_type": "stream",
     "text": [
      "   competitorname chocolate fruity caramel peanutyalmondy nougat  \\\n",
      "id                                                                 \n",
      "0       100 Grand       Yes     No     Yes             No     No   \n",
      "1    3 Musketeers       Yes     No      No             No    Yes   \n",
      "2       Air Heads        No    Yes      No             No     No   \n",
      "3      Almond Joy       Yes     No      No            Yes     No   \n",
      "4       Baby Ruth       Yes     No     Yes            Yes    Yes   \n",
      "\n",
      "   crispedricewafer hard  bar pluribus  sugarpercent  pricepercent  winpercent  \n",
      "id                                                                              \n",
      "0               Yes   No  Yes       No         0.732         0.860   66.971725  \n",
      "1                No   No  Yes       No         0.604         0.511   67.602936  \n",
      "2                No   No   No       No         0.906         0.511   52.341465  \n",
      "3                No   No  Yes       No         0.465         0.767   50.347546  \n",
      "4                No   No  Yes       No         0.604         0.767   56.914547  \n"
     ]
    }
   ],
   "source": [
    "# Print the first five rows of the data\n",
    "print(candy_data.head())"
   ]
  },
  {
   "cell_type": "markdown",
   "id": "ab06599f",
   "metadata": {
    "papermill": {
     "duration": 0.011176,
     "end_time": "2023-06-27T01:02:04.510118",
     "exception": false,
     "start_time": "2023-06-27T01:02:04.498942",
     "status": "completed"
    },
    "tags": []
   },
   "source": [
    "The dataset contains 83 rows, where each corresponds to a different candy bar.  There are 13 columns:\n",
    "- `'competitorname'` contains the name of the candy bar. \n",
    "- the next **9** columns (from `'chocolate'` to `'pluribus'`) describe the candy.  For instance, rows with chocolate candies have `\"Yes\"` in the `'chocolate'` column (and candies without chocolate have `\"No\"` in the same column).\n",
    "- `'sugarpercent'` provides some indication of the amount of sugar, where higher values signify higher sugar content.\n",
    "- `'pricepercent'` shows the price per unit, relative to the other candies in the dataset.\n",
    "- `'winpercent'` is calculated from the survey results; higher values indicate that the candy was more popular with survey respondents.\n",
    "\n",
    "Use the first five rows of the data to answer the questions below."
   ]
  },
  {
   "cell_type": "code",
   "execution_count": 6,
   "id": "4656b1b7",
   "metadata": {
    "execution": {
     "iopub.execute_input": "2023-06-27T01:02:04.535119Z",
     "iopub.status.busy": "2023-06-27T01:02:04.534729Z",
     "iopub.status.idle": "2023-06-27T01:02:04.544038Z",
     "shell.execute_reply": "2023-06-27T01:02:04.542919Z"
    },
    "papermill": {
     "duration": 0.024622,
     "end_time": "2023-06-27T01:02:04.546429",
     "exception": false,
     "start_time": "2023-06-27T01:02:04.521807",
     "status": "completed"
    },
    "tags": []
   },
   "outputs": [
    {
     "data": {
      "application/javascript": [
       "parent.postMessage({\"jupyterEvent\": \"custom.exercise_interaction\", \"data\": {\"outcomeType\": 1, \"valueTowardsCompletion\": 0.3333333333333333, \"interactionType\": 1, \"questionType\": 1, \"questionId\": \"2_ReviewData\", \"learnToolsVersion\": \"0.3.4\", \"failureMessage\": \"\", \"exceptionClass\": \"\", \"trace\": \"\"}}, \"*\")"
      ],
      "text/plain": [
       "<IPython.core.display.Javascript object>"
      ]
     },
     "metadata": {},
     "output_type": "display_data"
    },
    {
     "data": {
      "text/markdown": [
       "<span style=\"color:#33cc33\">Correct</span>"
      ],
      "text/plain": [
       "Correct"
      ]
     },
     "metadata": {},
     "output_type": "display_data"
    }
   ],
   "source": [
    "# Fill in the line below: Which candy was more popular with survey respondents:\n",
    "# '3 Musketeers' or 'Almond Joy'?  (Please enclose your answer in single quotes.)\n",
    "more_popular = '3 Musketeers'\n",
    "\n",
    "# Fill in the line below: Which candy has higher sugar content: 'Air Heads'\n",
    "# or 'Baby Ruth'? (Please enclose your answer in single quotes.)\n",
    "more_sugar ='Air Heads'\n",
    "# Check your answers\n",
    "step_2.check()"
   ]
  },
  {
   "cell_type": "code",
   "execution_count": 7,
   "id": "c70b6783",
   "metadata": {
    "execution": {
     "iopub.execute_input": "2023-06-27T01:02:04.572107Z",
     "iopub.status.busy": "2023-06-27T01:02:04.571737Z",
     "iopub.status.idle": "2023-06-27T01:02:04.575924Z",
     "shell.execute_reply": "2023-06-27T01:02:04.574796Z"
    },
    "papermill": {
     "duration": 0.019813,
     "end_time": "2023-06-27T01:02:04.578152",
     "exception": false,
     "start_time": "2023-06-27T01:02:04.558339",
     "status": "completed"
    },
    "tags": []
   },
   "outputs": [],
   "source": [
    "# Lines below will give you a hint or solution code\n",
    "#step_2.hint()\n",
    "#step_2.solution()"
   ]
  },
  {
   "cell_type": "markdown",
   "id": "58ac00f2",
   "metadata": {
    "papermill": {
     "duration": 0.011523,
     "end_time": "2023-06-27T01:02:04.601612",
     "exception": false,
     "start_time": "2023-06-27T01:02:04.590089",
     "status": "completed"
    },
    "tags": []
   },
   "source": [
    "## Step 3: The role of sugar\n",
    "\n",
    "Do people tend to prefer candies with higher sugar content?  \n",
    "\n",
    "#### Part A\n",
    "\n",
    "Create a scatter plot that shows the relationship between `'sugarpercent'` (on the horizontal x-axis) and `'winpercent'` (on the vertical y-axis).  _Don't add a regression line just yet -- you'll do that in the next step!_"
   ]
  },
  {
   "cell_type": "code",
   "execution_count": 8,
   "id": "6edd3c4b",
   "metadata": {
    "execution": {
     "iopub.execute_input": "2023-06-27T01:02:04.627108Z",
     "iopub.status.busy": "2023-06-27T01:02:04.626723Z",
     "iopub.status.idle": "2023-06-27T01:02:04.975835Z",
     "shell.execute_reply": "2023-06-27T01:02:04.974709Z"
    },
    "papermill": {
     "duration": 0.364904,
     "end_time": "2023-06-27T01:02:04.978348",
     "exception": false,
     "start_time": "2023-06-27T01:02:04.613444",
     "status": "completed"
    },
    "tags": []
   },
   "outputs": [
    {
     "data": {
      "application/javascript": [
       "parent.postMessage({\"jupyterEvent\": \"custom.exercise_interaction\", \"data\": {\"outcomeType\": 1, \"valueTowardsCompletion\": 0.3333333333333333, \"interactionType\": 1, \"questionType\": 2, \"questionId\": \"3.1_PlotBlueScatter\", \"learnToolsVersion\": \"0.3.4\", \"failureMessage\": \"\", \"exceptionClass\": \"\", \"trace\": \"\"}}, \"*\")"
      ],
      "text/plain": [
       "<IPython.core.display.Javascript object>"
      ]
     },
     "metadata": {},
     "output_type": "display_data"
    },
    {
     "data": {
      "text/markdown": [
       "<span style=\"color:#33cc33\">Correct</span>"
      ],
      "text/plain": [
       "Correct"
      ]
     },
     "metadata": {},
     "output_type": "display_data"
    },
    {
     "data": {
      "image/png": "[encoded data removed]",
      "text/plain": [
       "<Figure size 640x480 with 1 Axes>"
      ]
     },
     "metadata": {},
     "output_type": "display_data"
    }
   ],
   "source": [
    "# Scatter plot showing the relationship between 'sugarpercent' and 'winpercent'\n",
    "sns.scatterplot(x=candy_data['sugarpercent'],y=candy_data['winpercent'])\n",
    "\n",
    "# Check your answer\n",
    "step_3.a.check()"
   ]
  },
  {
   "cell_type": "code",
   "execution_count": 9,
   "id": "e28587d7",
   "metadata": {
    "execution": {
     "iopub.execute_input": "2023-06-27T01:02:05.006211Z",
     "iopub.status.busy": "2023-06-27T01:02:05.005264Z",
     "iopub.status.idle": "2023-06-27T01:02:05.010756Z",
     "shell.execute_reply": "2023-06-27T01:02:05.009554Z"
    },
    "papermill": {
     "duration": 0.022138,
     "end_time": "2023-06-27T01:02:05.013276",
     "exception": false,
     "start_time": "2023-06-27T01:02:04.991138",
     "status": "completed"
    },
    "tags": []
   },
   "outputs": [],
   "source": [
    "# Lines below will give you a hint or solution code\n",
    "#step_3.a.hint()\n",
    "#step_3.a.solution_plot()"
   ]
  },
  {
   "cell_type": "markdown",
   "id": "1e31e90d",
   "metadata": {
    "papermill": {
     "duration": 0.01259,
     "end_time": "2023-06-27T01:02:05.038968",
     "exception": false,
     "start_time": "2023-06-27T01:02:05.026378",
     "status": "completed"
    },
    "tags": []
   },
   "source": [
    "#### Part B\n",
    "\n",
    "Does the scatter plot show a **strong** correlation between the two variables?  If so, are candies with more sugar relatively more or less popular with the survey respondents?"
   ]
  },
  {
   "cell_type": "code",
   "execution_count": 10,
   "id": "61a9caa6",
   "metadata": {
    "execution": {
     "iopub.execute_input": "2023-06-27T01:02:05.066459Z",
     "iopub.status.busy": "2023-06-27T01:02:05.066049Z",
     "iopub.status.idle": "2023-06-27T01:02:05.071129Z",
     "shell.execute_reply": "2023-06-27T01:02:05.069909Z"
    },
    "papermill": {
     "duration": 0.021521,
     "end_time": "2023-06-27T01:02:05.073545",
     "exception": false,
     "start_time": "2023-06-27T01:02:05.052024",
     "status": "completed"
    },
    "tags": []
   },
   "outputs": [],
   "source": [
    "#step_3.b.hint()"
   ]
  },
  {
   "cell_type": "code",
   "execution_count": 11,
   "id": "9001275f",
   "metadata": {
    "execution": {
     "iopub.execute_input": "2023-06-27T01:02:05.100910Z",
     "iopub.status.busy": "2023-06-27T01:02:05.100535Z",
     "iopub.status.idle": "2023-06-27T01:02:05.109138Z",
     "shell.execute_reply": "2023-06-27T01:02:05.108082Z"
    },
    "papermill": {
     "duration": 0.025104,
     "end_time": "2023-06-27T01:02:05.111682",
     "exception": false,
     "start_time": "2023-06-27T01:02:05.086578",
     "status": "completed"
    },
    "tags": []
   },
   "outputs": [
    {
     "data": {
      "application/javascript": [
       "parent.postMessage({\"jupyterEvent\": \"custom.exercise_interaction\", \"data\": {\"interactionType\": 3, \"questionType\": 4, \"questionId\": \"3.2_ThinkBlueScatter\", \"learnToolsVersion\": \"0.3.4\", \"valueTowardsCompletion\": 0.0, \"failureMessage\": \"\", \"exceptionClass\": \"\", \"trace\": \"\", \"outcomeType\": 4}}, \"*\")"
      ],
      "text/plain": [
       "<IPython.core.display.Javascript object>"
      ]
     },
     "metadata": {},
     "output_type": "display_data"
    },
    {
     "data": {
      "text/markdown": [
       "<span style=\"color:#33cc99\">Solution:</span> The scatter plot does not show a strong correlation between the two variables. Since there is no clear relationship between the two variables, this tells us that sugar content does not play a strong role in candy popularity."
      ],
      "text/plain": [
       "Solution: The scatter plot does not show a strong correlation between the two variables. Since there is no clear relationship between the two variables, this tells us that sugar content does not play a strong role in candy popularity."
      ]
     },
     "metadata": {},
     "output_type": "display_data"
    }
   ],
   "source": [
    "# Check your answer (Run this code cell to receive credit!)\n",
    "step_3.b.solution()"
   ]
  },
  {
   "cell_type": "markdown",
   "id": "705df472",
   "metadata": {
    "papermill": {
     "duration": 0.012813,
     "end_time": "2023-06-27T01:02:05.137631",
     "exception": false,
     "start_time": "2023-06-27T01:02:05.124818",
     "status": "completed"
    },
    "tags": []
   },
   "source": [
    "## Step 4: Take a closer look\n",
    "\n",
    "#### Part A\n",
    "\n",
    "Create the same scatter plot you created in **Step 3**, but now with a regression line!"
   ]
  },
  {
   "cell_type": "code",
   "execution_count": 12,
   "id": "fb8a9901",
   "metadata": {
    "execution": {
     "iopub.execute_input": "2023-06-27T01:02:05.166287Z",
     "iopub.status.busy": "2023-06-27T01:02:05.165903Z",
     "iopub.status.idle": "2023-06-27T01:02:05.604064Z",
     "shell.execute_reply": "2023-06-27T01:02:05.602724Z"
    },
    "papermill": {
     "duration": 0.455751,
     "end_time": "2023-06-27T01:02:05.606571",
     "exception": false,
     "start_time": "2023-06-27T01:02:05.150820",
     "status": "completed"
    },
    "tags": []
   },
   "outputs": [
    {
     "data": {
      "application/javascript": [
       "parent.postMessage({\"jupyterEvent\": \"custom.exercise_interaction\", \"data\": {\"outcomeType\": 1, \"valueTowardsCompletion\": 0.3333333333333333, \"interactionType\": 1, \"questionType\": 2, \"questionId\": \"4.1_PlotBlueReg\", \"learnToolsVersion\": \"0.3.4\", \"failureMessage\": \"\", \"exceptionClass\": \"\", \"trace\": \"\"}}, \"*\")"
      ],
      "text/plain": [
       "<IPython.core.display.Javascript object>"
      ]
     },
     "metadata": {},
     "output_type": "display_data"
    },
    {
     "data": {
      "text/markdown": [
       "<span style=\"color:#33cc33\">Correct</span>"
      ],
      "text/plain": [
       "Correct"
      ]
     },
     "metadata": {},
     "output_type": "display_data"
    },
    {
     "data": {
      "image/png": "[encoded data removed]",
      "text/plain": [
       "<Figure size 640x480 with 1 Axes>"
      ]
     },
     "metadata": {},
     "output_type": "display_data"
    }
   ],
   "source": [
    "# Scatter plot w/ regression line showing the relationship between 'sugarpercent' and 'winpercent'\n",
    "sns.regplot(x=candy_data['sugarpercent'],y=candy_data['winpercent'])\n",
    "\n",
    "# Check your answer\n",
    "step_4.a.check()"
   ]
  },
  {
   "cell_type": "code",
   "execution_count": 13,
   "id": "d69a44b7",
   "metadata": {
    "execution": {
     "iopub.execute_input": "2023-06-27T01:02:05.636866Z",
     "iopub.status.busy": "2023-06-27T01:02:05.636462Z",
     "iopub.status.idle": "2023-06-27T01:02:05.640896Z",
     "shell.execute_reply": "2023-06-27T01:02:05.639990Z"
    },
    "papermill": {
     "duration": 0.022491,
     "end_time": "2023-06-27T01:02:05.643450",
     "exception": false,
     "start_time": "2023-06-27T01:02:05.620959",
     "status": "completed"
    },
    "tags": []
   },
   "outputs": [],
   "source": [
    "# Lines below will give you a hint or solution code\n",
    "#step_4.a.hint()\n",
    "#step_4.a.solution_plot()"
   ]
  },
  {
   "cell_type": "markdown",
   "id": "5044f8b3",
   "metadata": {
    "papermill": {
     "duration": 0.013734,
     "end_time": "2023-06-27T01:02:05.671635",
     "exception": false,
     "start_time": "2023-06-27T01:02:05.657901",
     "status": "completed"
    },
    "tags": []
   },
   "source": [
    "#### Part B\n",
    "\n",
    "According to the plot above, is there a **slight** correlation between `'winpercent'` and `'sugarpercent'`?  What does this tell you about the candy that people tend to prefer?"
   ]
  },
  {
   "cell_type": "code",
   "execution_count": 14,
   "id": "7d04075e",
   "metadata": {
    "execution": {
     "iopub.execute_input": "2023-06-27T01:02:05.701039Z",
     "iopub.status.busy": "2023-06-27T01:02:05.700651Z",
     "iopub.status.idle": "2023-06-27T01:02:05.705193Z",
     "shell.execute_reply": "2023-06-27T01:02:05.703989Z"
    },
    "papermill": {
     "duration": 0.022031,
     "end_time": "2023-06-27T01:02:05.707611",
     "exception": false,
     "start_time": "2023-06-27T01:02:05.685580",
     "status": "completed"
    },
    "tags": []
   },
   "outputs": [],
   "source": [
    "#step_4.b.hint()"
   ]
  },
  {
   "cell_type": "code",
   "execution_count": 15,
   "id": "ba93fed5",
   "metadata": {
    "execution": {
     "iopub.execute_input": "2023-06-27T01:02:05.737355Z",
     "iopub.status.busy": "2023-06-27T01:02:05.736975Z",
     "iopub.status.idle": "2023-06-27T01:02:05.746288Z",
     "shell.execute_reply": "2023-06-27T01:02:05.745128Z"
    },
    "papermill": {
     "duration": 0.026951,
     "end_time": "2023-06-27T01:02:05.748702",
     "exception": false,
     "start_time": "2023-06-27T01:02:05.721751",
     "status": "completed"
    },
    "tags": []
   },
   "outputs": [
    {
     "data": {
      "application/javascript": [
       "parent.postMessage({\"jupyterEvent\": \"custom.exercise_interaction\", \"data\": {\"interactionType\": 3, \"questionType\": 4, \"questionId\": \"4.2_ThinkBlueReg\", \"learnToolsVersion\": \"0.3.4\", \"valueTowardsCompletion\": 0.0, \"failureMessage\": \"\", \"exceptionClass\": \"\", \"trace\": \"\", \"outcomeType\": 4}}, \"*\")"
      ],
      "text/plain": [
       "<IPython.core.display.Javascript object>"
      ]
     },
     "metadata": {},
     "output_type": "display_data"
    },
    {
     "data": {
      "text/markdown": [
       "<span style=\"color:#33cc99\">Solution:</span> Since the regression line has a slightly positive slope, this tells us that there is a slightly positive correlation between `'winpercent'` and `'sugarpercent'`. Thus, people have a slight preference for candies containing relatively more sugar."
      ],
      "text/plain": [
       "Solution: Since the regression line has a slightly positive slope, this tells us that there is a slightly positive correlation between `'winpercent'` and `'sugarpercent'`. Thus, people have a slight preference for candies containing relatively more sugar."
      ]
     },
     "metadata": {},
     "output_type": "display_data"
    }
   ],
   "source": [
    "# Check your answer (Run this code cell to receive credit!)\n",
    "step_4.b.solution()"
   ]
  },
  {
   "cell_type": "markdown",
   "id": "c3067b8c",
   "metadata": {
    "papermill": {
     "duration": 0.013828,
     "end_time": "2023-06-27T01:02:05.776822",
     "exception": false,
     "start_time": "2023-06-27T01:02:05.762994",
     "status": "completed"
    },
    "tags": []
   },
   "source": [
    "## Step 5: Chocolate!\n",
    "\n",
    "In the code cell below, create a scatter plot to show the relationship between `'pricepercent'` (on the horizontal x-axis) and `'winpercent'` (on the vertical y-axis). Use the `'chocolate'` column to color-code the points.  _Don't add any regression lines just yet -- you'll do that in the next step!_"
   ]
  },
  {
   "cell_type": "code",
   "execution_count": 16,
   "id": "6527179e",
   "metadata": {
    "execution": {
     "iopub.execute_input": "2023-06-27T01:02:05.807787Z",
     "iopub.status.busy": "2023-06-27T01:02:05.806669Z",
     "iopub.status.idle": "2023-06-27T01:02:06.213108Z",
     "shell.execute_reply": "2023-06-27T01:02:06.211993Z"
    },
    "papermill": {
     "duration": 0.424433,
     "end_time": "2023-06-27T01:02:06.215576",
     "exception": false,
     "start_time": "2023-06-27T01:02:05.791143",
     "status": "completed"
    },
    "tags": []
   },
   "outputs": [
    {
     "data": {
      "application/javascript": [
       "parent.postMessage({\"jupyterEvent\": \"custom.exercise_interaction\", \"data\": {\"outcomeType\": 1, \"valueTowardsCompletion\": 0.3333333333333333, \"interactionType\": 1, \"questionType\": 2, \"questionId\": \"5_ColorScatter\", \"learnToolsVersion\": \"0.3.4\", \"failureMessage\": \"\", \"exceptionClass\": \"\", \"trace\": \"\"}}, \"*\")"
      ],
      "text/plain": [
       "<IPython.core.display.Javascript object>"
      ]
     },
     "metadata": {},
     "output_type": "display_data"
    },
    {
     "data": {
      "text/markdown": [
       "<span style=\"color:#33cc33\">Correct</span>"
      ],
      "text/plain": [
       "Correct"
      ]
     },
     "metadata": {},
     "output_type": "display_data"
    },
    {
     "data": {
      "image/png": "[encoded data removed]",
      "text/plain": [
       "<Figure size 640x480 with 1 Axes>"
      ]
     },
     "metadata": {},
     "output_type": "display_data"
    }
   ],
   "source": [
    "# Scatter plot showing the relationship between 'pricepercent', 'winpercent', and 'chocolate'\n",
    "sns.scatterplot(x=candy_data['pricepercent'],y=candy_data['winpercent'],hue=candy_data['chocolate'])\n",
    "\n",
    "# Check your answer\n",
    "step_5.check()"
   ]
  },
  {
   "cell_type": "code",
   "execution_count": 17,
   "id": "db710da8",
   "metadata": {
    "execution": {
     "iopub.execute_input": "2023-06-27T01:02:06.248260Z",
     "iopub.status.busy": "2023-06-27T01:02:06.247650Z",
     "iopub.status.idle": "2023-06-27T01:02:06.252800Z",
     "shell.execute_reply": "2023-06-27T01:02:06.251473Z"
    },
    "papermill": {
     "duration": 0.024544,
     "end_time": "2023-06-27T01:02:06.255398",
     "exception": false,
     "start_time": "2023-06-27T01:02:06.230854",
     "status": "completed"
    },
    "tags": []
   },
   "outputs": [],
   "source": [
    "# Lines below will give you a hint or solution code\n",
    "#step_5.hint()\n",
    "#step_5.solution_plot()"
   ]
  },
  {
   "cell_type": "markdown",
   "id": "b2f4a0a4",
   "metadata": {
    "papermill": {
     "duration": 0.015219,
     "end_time": "2023-06-27T01:02:06.286147",
     "exception": false,
     "start_time": "2023-06-27T01:02:06.270928",
     "status": "completed"
    },
    "tags": []
   },
   "source": [
    "Can you see any interesting patterns in the scatter plot?  We'll investigate this plot further  by adding regression lines in the next step!\n",
    "\n",
    "## Step 6: Investigate chocolate\n",
    "\n",
    "#### Part A\n",
    "\n",
    "Create the same scatter plot you created in **Step 5**, but now with two regression lines, corresponding to (1) chocolate candies and (2) candies without chocolate."
   ]
  },
  {
   "cell_type": "code",
   "execution_count": 18,
   "id": "b55fe3d3",
   "metadata": {
    "execution": {
     "iopub.execute_input": "2023-06-27T01:02:06.318485Z",
     "iopub.status.busy": "2023-06-27T01:02:06.318047Z",
     "iopub.status.idle": "2023-06-27T01:02:07.224774Z",
     "shell.execute_reply": "2023-06-27T01:02:07.223508Z"
    },
    "papermill": {
     "duration": 0.926219,
     "end_time": "2023-06-27T01:02:07.227698",
     "exception": false,
     "start_time": "2023-06-27T01:02:06.301479",
     "status": "completed"
    },
    "tags": []
   },
   "outputs": [
    {
     "data": {
      "application/javascript": [
       "parent.postMessage({\"jupyterEvent\": \"custom.exercise_interaction\", \"data\": {\"outcomeType\": 1, \"valueTowardsCompletion\": 0.3333333333333333, \"interactionType\": 1, \"questionType\": 2, \"questionId\": \"6.1_PlotColorReg\", \"learnToolsVersion\": \"0.3.4\", \"failureMessage\": \"\", \"exceptionClass\": \"\", \"trace\": \"\"}}, \"*\")"
      ],
      "text/plain": [
       "<IPython.core.display.Javascript object>"
      ]
     },
     "metadata": {},
     "output_type": "display_data"
    },
    {
     "data": {
      "text/markdown": [
       "<span style=\"color:#33cc33\">Correct</span>"
      ],
      "text/plain": [
       "Correct"
      ]
     },
     "metadata": {},
     "output_type": "display_data"
    },
    {
     "data": {
      "image/png": "[encoded data removed]",
      "text/plain": [
       "<Figure size 578.611x500 with 1 Axes>"
      ]
     },
     "metadata": {},
     "output_type": "display_data"
    }
   ],
   "source": [
    "# Color-coded scatter plot w/ regression lines\n",
    "sns.lmplot(x='pricepercent',y='winpercent',hue='chocolate',data=candy_data)\n",
    "\n",
    "# Check your answer\n",
    "step_6.a.check()"
   ]
  },
  {
   "cell_type": "code",
   "execution_count": 19,
   "id": "9ae45b8f",
   "metadata": {
    "execution": {
     "iopub.execute_input": "2023-06-27T01:02:07.264330Z",
     "iopub.status.busy": "2023-06-27T01:02:07.263956Z",
     "iopub.status.idle": "2023-06-27T01:02:07.268551Z",
     "shell.execute_reply": "2023-06-27T01:02:07.267497Z"
    },
    "papermill": {
     "duration": 0.0258,
     "end_time": "2023-06-27T01:02:07.271035",
     "exception": false,
     "start_time": "2023-06-27T01:02:07.245235",
     "status": "completed"
    },
    "tags": []
   },
   "outputs": [],
   "source": [
    "# Lines below will give you a hint or solution code\n",
    "#step_6.a.hint()\n",
    "#step_6.a.solution_plot()"
   ]
  },
  {
   "cell_type": "markdown",
   "id": "9ea00c82",
   "metadata": {
    "papermill": {
     "duration": 0.016048,
     "end_time": "2023-06-27T01:02:07.303689",
     "exception": false,
     "start_time": "2023-06-27T01:02:07.287641",
     "status": "completed"
    },
    "tags": []
   },
   "source": [
    "#### Part B\n",
    "\n",
    "Using the regression lines, what conclusions can you draw about the effects of chocolate and price on candy popularity?"
   ]
  },
  {
   "cell_type": "code",
   "execution_count": 20,
   "id": "47bdde77",
   "metadata": {
    "execution": {
     "iopub.execute_input": "2023-06-27T01:02:07.339454Z",
     "iopub.status.busy": "2023-06-27T01:02:07.339051Z",
     "iopub.status.idle": "2023-06-27T01:02:07.343196Z",
     "shell.execute_reply": "2023-06-27T01:02:07.342324Z"
    },
    "papermill": {
     "duration": 0.024563,
     "end_time": "2023-06-27T01:02:07.345334",
     "exception": false,
     "start_time": "2023-06-27T01:02:07.320771",
     "status": "completed"
    },
    "tags": []
   },
   "outputs": [],
   "source": [
    "#step_6.b.hint()"
   ]
  },
  {
   "cell_type": "code",
   "execution_count": 21,
   "id": "04cf1dba",
   "metadata": {
    "execution": {
     "iopub.execute_input": "2023-06-27T01:02:07.380613Z",
     "iopub.status.busy": "2023-06-27T01:02:07.379603Z",
     "iopub.status.idle": "2023-06-27T01:02:07.389562Z",
     "shell.execute_reply": "2023-06-27T01:02:07.388196Z"
    },
    "papermill": {
     "duration": 0.030214,
     "end_time": "2023-06-27T01:02:07.392034",
     "exception": false,
     "start_time": "2023-06-27T01:02:07.361820",
     "status": "completed"
    },
    "tags": []
   },
   "outputs": [
    {
     "data": {
      "application/javascript": [
       "parent.postMessage({\"jupyterEvent\": \"custom.exercise_interaction\", \"data\": {\"interactionType\": 3, \"questionType\": 4, \"questionId\": \"6.2_ThinkColorReg\", \"learnToolsVersion\": \"0.3.4\", \"valueTowardsCompletion\": 0.0, \"failureMessage\": \"\", \"exceptionClass\": \"\", \"trace\": \"\", \"outcomeType\": 4}}, \"*\")"
      ],
      "text/plain": [
       "<IPython.core.display.Javascript object>"
      ]
     },
     "metadata": {},
     "output_type": "display_data"
    },
    {
     "data": {
      "text/markdown": [
       "<span style=\"color:#33cc99\">Solution:</span> We'll begin with the regression line for chocolate candies. Since this line has a slightly positive slope, we can say that more expensive chocolate candies tend to be more popular (than relatively cheaper chocolate candies).  Likewise, since the regression line for candies without chocolate has a negative slope, we can say that if candies don't contain chocolate, they tend to be more popular when they are cheaper.  One important note, however, is that the dataset is quite small -- so we shouldn't invest too much trust in these patterns!  To inspire more confidence in the results, we should add more candies to the dataset."
      ],
      "text/plain": [
       "Solution: We'll begin with the regression line for chocolate candies. Since this line has a slightly positive slope, we can say that more expensive chocolate candies tend to be more popular (than relatively cheaper chocolate candies).  Likewise, since the regression line for candies without chocolate has a negative slope, we can say that if candies don't contain chocolate, they tend to be more popular when they are cheaper.  One important note, however, is that the dataset is quite small -- so we shouldn't invest too much trust in these patterns!  To inspire more confidence in the results, we should add more candies to the dataset."
      ]
     },
     "metadata": {},
     "output_type": "display_data"
    }
   ],
   "source": [
    "# Check your answer (Run this code cell to receive credit!)\n",
    "step_6.b.solution()"
   ]
  },
  {
   "cell_type": "markdown",
   "id": "eceb6edc",
   "metadata": {
    "papermill": {
     "duration": 0.017348,
     "end_time": "2023-06-27T01:02:07.427009",
     "exception": false,
     "start_time": "2023-06-27T01:02:07.409661",
     "status": "completed"
    },
    "tags": []
   },
   "source": [
    "## Step 7: Everybody loves chocolate.\n",
    "\n",
    "#### Part A\n",
    "\n",
    "Create a categorical scatter plot to highlight the relationship between `'chocolate'` and `'winpercent'`.  Put `'chocolate'` on the (horizontal) x-axis, and `'winpercent'` on the (vertical) y-axis."
   ]
  },
  {
   "cell_type": "code",
   "execution_count": 22,
   "id": "bab91df9",
   "metadata": {
    "execution": {
     "iopub.execute_input": "2023-06-27T01:02:07.463609Z",
     "iopub.status.busy": "2023-06-27T01:02:07.462266Z",
     "iopub.status.idle": "2023-06-27T01:02:08.011437Z",
     "shell.execute_reply": "2023-06-27T01:02:08.009699Z"
    },
    "papermill": {
     "duration": 0.571864,
     "end_time": "2023-06-27T01:02:08.015892",
     "exception": false,
     "start_time": "2023-06-27T01:02:07.444028",
     "status": "completed"
    },
    "tags": []
   },
   "outputs": [
    {
     "data": {
      "application/javascript": [
       "parent.postMessage({\"jupyterEvent\": \"custom.exercise_interaction\", \"data\": {\"outcomeType\": 1, \"valueTowardsCompletion\": 0.3333333333333333, \"interactionType\": 1, \"questionType\": 2, \"questionId\": \"7.1_PlotSwarm\", \"learnToolsVersion\": \"0.3.4\", \"failureMessage\": \"\", \"exceptionClass\": \"\", \"trace\": \"\"}}, \"*\")"
      ],
      "text/plain": [
       "<IPython.core.display.Javascript object>"
      ]
     },
     "metadata": {},
     "output_type": "display_data"
    },
    {
     "data": {
      "text/markdown": [
       "<span style=\"color:#33cc33\">Correct</span>"
      ],
      "text/plain": [
       "Correct"
      ]
     },
     "metadata": {},
     "output_type": "display_data"
    },
    {
     "data": {
      "image/png": "[encoded data removed]",
      "text/plain": [
       "<Figure size 640x480 with 1 Axes>"
      ]
     },
     "metadata": {},
     "output_type": "display_data"
    }
   ],
   "source": [
    "# Scatter plot showing the relationship between 'chocolate' and 'winpercent'\n",
    "sns.swarmplot(x=candy_data['chocolate'],y=candy_data['winpercent'])\n",
    "\n",
    "# Check your answer\n",
    "step_7.a.check()"
   ]
  },
  {
   "cell_type": "code",
   "execution_count": 23,
   "id": "dc50837b",
   "metadata": {
    "execution": {
     "iopub.execute_input": "2023-06-27T01:02:08.066377Z",
     "iopub.status.busy": "2023-06-27T01:02:08.065504Z",
     "iopub.status.idle": "2023-06-27T01:02:08.069983Z",
     "shell.execute_reply": "2023-06-27T01:02:08.069024Z"
    },
    "papermill": {
     "duration": 0.028245,
     "end_time": "2023-06-27T01:02:08.072136",
     "exception": false,
     "start_time": "2023-06-27T01:02:08.043891",
     "status": "completed"
    },
    "tags": []
   },
   "outputs": [],
   "source": [
    "# Lines below will give you a hint or solution code\n",
    "#step_7.a.hint()\n",
    "#step_7.a.solution_plot()"
   ]
  },
  {
   "cell_type": "markdown",
   "id": "779ea36c",
   "metadata": {
    "papermill": {
     "duration": 0.017416,
     "end_time": "2023-06-27T01:02:08.107609",
     "exception": false,
     "start_time": "2023-06-27T01:02:08.090193",
     "status": "completed"
    },
    "tags": []
   },
   "source": [
    "#### Part B\n",
    "\n",
    "You decide to dedicate a section of your report to the fact that chocolate candies tend to be more popular than candies without chocolate.  Which plot is more appropriate to tell this story: the plot from **Step 6**, or the plot from **Step 7**?"
   ]
  },
  {
   "cell_type": "code",
   "execution_count": 24,
   "id": "0e2380ee",
   "metadata": {
    "execution": {
     "iopub.execute_input": "2023-06-27T01:02:08.145382Z",
     "iopub.status.busy": "2023-06-27T01:02:08.144654Z",
     "iopub.status.idle": "2023-06-27T01:02:08.148951Z",
     "shell.execute_reply": "2023-06-27T01:02:08.147812Z"
    },
    "papermill": {
     "duration": 0.026592,
     "end_time": "2023-06-27T01:02:08.151849",
     "exception": false,
     "start_time": "2023-06-27T01:02:08.125257",
     "status": "completed"
    },
    "tags": []
   },
   "outputs": [],
   "source": [
    "#step_7.b.hint()"
   ]
  },
  {
   "cell_type": "code",
   "execution_count": 25,
   "id": "abb1ac5c",
   "metadata": {
    "execution": {
     "iopub.execute_input": "2023-06-27T01:02:08.189395Z",
     "iopub.status.busy": "2023-06-27T01:02:08.188989Z",
     "iopub.status.idle": "2023-06-27T01:02:08.198062Z",
     "shell.execute_reply": "2023-06-27T01:02:08.197001Z"
    },
    "papermill": {
     "duration": 0.030513,
     "end_time": "2023-06-27T01:02:08.200445",
     "exception": false,
     "start_time": "2023-06-27T01:02:08.169932",
     "status": "completed"
    },
    "tags": []
   },
   "outputs": [
    {
     "data": {
      "application/javascript": [
       "parent.postMessage({\"jupyterEvent\": \"custom.exercise_interaction\", \"data\": {\"interactionType\": 3, \"questionType\": 4, \"questionId\": \"7.2_ThinkSwarm\", \"learnToolsVersion\": \"0.3.4\", \"valueTowardsCompletion\": 0.0, \"failureMessage\": \"\", \"exceptionClass\": \"\", \"trace\": \"\", \"outcomeType\": 4}}, \"*\")"
      ],
      "text/plain": [
       "<IPython.core.display.Javascript object>"
      ]
     },
     "metadata": {},
     "output_type": "display_data"
    },
    {
     "data": {
      "text/markdown": [
       "<span style=\"color:#33cc99\">Solution:</span> In this case, the categorical scatter plot from **Step 7** is the more appropriate plot. While both plots tell the desired story, the plot from **Step 6** conveys far more information that could distract from the main point."
      ],
      "text/plain": [
       "Solution: In this case, the categorical scatter plot from **Step 7** is the more appropriate plot. While both plots tell the desired story, the plot from **Step 6** conveys far more information that could distract from the main point."
      ]
     },
     "metadata": {},
     "output_type": "display_data"
    }
   ],
   "source": [
    "# Check your answer (Run this code cell to receive credit!)\n",
    "step_7.b.solution()"
   ]
  },
  {
   "cell_type": "markdown",
   "id": "4baa3b8d",
   "metadata": {
    "papermill": {
     "duration": 0.017684,
     "end_time": "2023-06-27T01:02:08.236040",
     "exception": false,
     "start_time": "2023-06-27T01:02:08.218356",
     "status": "completed"
    },
    "tags": []
   },
   "source": [
    "## Keep going\n",
    "\n",
    "Explore **[histograms and density plots](https://www.kaggle.com/alexisbcook/distributions)**."
   ]
  },
  {
   "cell_type": "markdown",
   "id": "096fad7b",
   "metadata": {
    "papermill": {
     "duration": 0.018185,
     "end_time": "2023-06-27T01:02:08.272532",
     "exception": false,
     "start_time": "2023-06-27T01:02:08.254347",
     "status": "completed"
    },
    "tags": []
   },
   "source": [
    "---\n",
    "\n",
    "\n",
    "\n",
    "\n",
    "*Have questions or comments? Visit the [course discussion forum](https://www.kaggle.com/learn/data-visualization/discussion) to chat with other learners.*"
   ]
  }
 ],
 "metadata": {
  "kernelspec": {
   "display_name": "Python 3",
   "language": "python",
   "name": "python3"
  },
  "language_info": {
   "codemirror_mode": {
    "name": "ipython",
    "version": 3
   },
   "file_extension": ".py",
   "mimetype": "text/x-python",
   "name": "python",
   "nbconvert_exporter": "python",
   "pygments_lexer": "ipython3",
   "version": "3.10.10"
  },
  "papermill": {
   "default_parameters": {},
   "duration": 18.843279,
   "end_time": "2023-06-27T01:02:09.313015",
   "environment_variables": {},
   "exception": null,
   "input_path": "__notebook__.ipynb",
   "output_path": "__notebook__.ipynb",
   "parameters": {},
   "start_time": "2023-06-27T01:01:50.469736",
   "version": "2.4.0"
  }
 },
 "nbformat": 4,
 "nbformat_minor": 5
}
